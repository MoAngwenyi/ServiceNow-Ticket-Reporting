{
 "cells": [
  {
   "cell_type": "code",
   "execution_count": 1,
   "id": "4c1a1f60",
   "metadata": {},
   "outputs": [
    {
     "name": "stdout",
     "output_type": "stream",
     "text": [
      "Ticket Frequency by Issue Type:\n",
      "Login Issue        4\n",
      "Network Issue      3\n",
      "Software Bug       2\n",
      "Software Expiry    1\n",
      "Name: issue_type, dtype: int64\n",
      "\n",
      "Ticket Frequency by Department:\n",
      "Finance      2\n",
      "IT           2\n",
      "HR           2\n",
      "Marketing    2\n",
      "Admin        2\n",
      "Name: department, dtype: int64\n",
      "\n",
      "Resolution Status (%):\n",
      "Closed    60.0\n",
      "Open      40.0\n",
      "Name: status, dtype: float64\n",
      "\n",
      "Average Resolution Time for Closed Tickets:\n",
      "25.83 mins\n",
      "\n",
      "Average Resolution Time by Issue Type:\n",
      "issue_type\n",
      "Login Issue        18.333333\n",
      "Network Issue      35.000000\n",
      "Software Expiry    30.000000\n",
      "Name: resolution_time_mins, dtype: float64\n"
     ]
    }
   ],
   "source": [
    "import pandas as pd\n",
    "\n",
    "# Create DataFrame\n",
    "data = {\n",
    "    \"ticket_id\": [1, 2, 3, 4, 5, 6, 7, 8, 9, 10],\n",
    "    \"issue_type\": [\n",
    "        \"Software Bug\", \"Software Expiry\", \"Software Bug\", \"Login Issue\", \n",
    "        \"Network Issue\", \"Network Issue\", \"Login Issue\", \"Login Issue\", \n",
    "        \"Login Issue\", \"Network Issue\"\n",
    "    ],\n",
    "    \"department\": [\n",
    "        \"Finance\", \"IT\", \"HR\", \"IT\", \"HR\", \"Finance\", \n",
    "        \"Marketing\", \"Marketing\", \"Admin\", \"Admin\"\n",
    "    ],\n",
    "    \"status\": [\"Open\", \"Closed\", \"Open\", \"Closed\", \"Closed\", \"Open\", \"Open\", \"Closed\", \"Closed\", \"Closed\"],\n",
    "    \"resolution_time_mins\": [0, 30, 0, 15, 25, 0, 0, 30, 10, 45]\n",
    "}\n",
    "\n",
    "df = pd.DataFrame(data)\n",
    "\n",
    "# Ticket Frequency by Issue Type\n",
    "issue_frequency = df['issue_type'].value_counts()\n",
    "\n",
    "# Ticket Frequency by Department\n",
    "department_frequency = df['department'].value_counts()\n",
    "\n",
    "# Resolution Status\n",
    "resolution_status = df['status'].value_counts(normalize=True) * 100\n",
    "\n",
    "# Average Resolution Time for Closed Tickets\n",
    "average_resolution_time = df[df['status'] == 'Closed']['resolution_time_mins'].mean()\n",
    "\n",
    "# Average Resolution Time by Issue Type\n",
    "resolution_by_issue = df[df['status'] == 'Closed'].groupby('issue_type')['resolution_time_mins'].mean()\n",
    "\n",
    "# Display Results\n",
    "print(\"Ticket Frequency by Issue Type:\")\n",
    "print(issue_frequency)\n",
    "print(\"\\nTicket Frequency by Department:\")\n",
    "print(department_frequency)\n",
    "print(\"\\nResolution Status (%):\")\n",
    "print(resolution_status)\n",
    "print(\"\\nAverage Resolution Time for Closed Tickets:\")\n",
    "print(f\"{average_resolution_time:.2f} mins\")\n",
    "print(\"\\nAverage Resolution Time by Issue Type:\")\n",
    "print(resolution_by_issue)\n"
   ]
  },
  {
   "cell_type": "code",
   "execution_count": null,
   "id": "6771580c",
   "metadata": {},
   "outputs": [],
   "source": []
  }
 ],
 "metadata": {
  "kernelspec": {
   "display_name": "Python 3 (ipykernel)",
   "language": "python",
   "name": "python3"
  },
  "language_info": {
   "codemirror_mode": {
    "name": "ipython",
    "version": 3
   },
   "file_extension": ".py",
   "mimetype": "text/x-python",
   "name": "python",
   "nbconvert_exporter": "python",
   "pygments_lexer": "ipython3",
   "version": "3.11.4"
  }
 },
 "nbformat": 4,
 "nbformat_minor": 5
}
